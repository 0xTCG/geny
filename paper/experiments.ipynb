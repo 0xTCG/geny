{
 "cells": [
  {
   "cell_type": "markdown",
   "metadata": {
    "pycharm": {
     "name": "#%% md\n"
    }
   },
   "source": [
    "# Geny Experimental Notebook\n",
    "---\n",
    "\n",
    "## Evaluated tools\n",
    "\n",
    "| Tool | Version |\n",
    "|------|-----|\n",
    "| Geny | [v1.0](https://github.com/0xTCG/geny) | |\n",
    "| T1K | [v1.0.5](https://github.com/mourisl/T1K) (c02398b17) |\n",
    "| PING | []() |\n"
   ]
  },
  {
   "cell_type": "markdown",
   "metadata": {
    "jp-MarkdownHeadingCollapsed": true,
    "pycharm": {
     "name": "#%% md\n"
    },
    "tags": []
   },
   "source": [
    "## Simulations\n",
    "\n",
    "### Generation\n",
    "\n",
    "### Run\n",
    "\n",
    "Geny: `python geny.py file.fa -c 20`\n",
    "\n",
    "T1K: \n",
    "\n",
    "```bash\n",
    "cat file.fa | paste - - - - | \\\n",
    "    tee >(cut -f 1-2 | sed 's/^>/@/' | awk '{print $1; print $3; print \"+\"; print \"HHHHHHHHHHHHHHHHHHHHHHHHHHHHHHHHHHHHHHHHHHHHHHHHHHHHHHHHHHHHHHHHHHHHHHHHHHHHHHHHHHHHHHHHHHHHHHHHHHHH\"}' > file.fq1) | \\\n",
    "    cut -f3-4 |        sed 's/^>/@/' | awk '{print $1; print $3; print \"+\"; print \"HHHHHHHHHHHHHHHHHHHHHHHHHHHHHHHHHHHHHHHHHHHHHHHHHHHHHHHHHHHHHHHHHHHHHHHHHHHHHHHHHHHHHHHHHHHHHHHHHHHH\"}' > file.fq2\n",
    "time ./run-t1k -1 file.fq1 file.fq2 --od file -t 8 --preset kir-wgs -f kiridx/kiridx_dna_seq.fa\n",
    "```"
   ]
  },
  {
   "cell_type": "markdown",
   "metadata": {
    "jp-MarkdownHeadingCollapsed": true,
    "pycharm": {
     "name": "#%% md\n"
    },
    "tags": []
   },
   "source": [
    "## HPRC data\n",
    "\n",
    "### Run\n",
    "\n",
    "Geny: `python geny.py file.cram`\n",
    "\n",
    "T1K: `run-t1k -b file.bam --od file -t 8 --preset kir-wgs -f kiridx/kiridx_dna_seq.fa`"
   ]
  }
 ],
 "metadata": {
  "kernelspec": {
   "display_name": "Python 3 (ipykernel)",
   "language": "python",
   "name": "python3"
  },
  "language_info": {
   "codemirror_mode": {
    "name": "ipython",
    "version": 3
   },
   "file_extension": ".py",
   "mimetype": "text/x-python",
   "name": "python",
   "nbconvert_exporter": "python",
   "pygments_lexer": "ipython3",
   "version": "3.9.7"
  },
  "toc": {
   "nav_menu": {},
   "number_sections": true,
   "sideBar": true,
   "skip_h1_title": false,
   "title_cell": "Table of Contents",
   "title_sidebar": "Contents",
   "toc_cell": false,
   "toc_position": {},
   "toc_section_display": true,
   "toc_window_display": false
  }
 },
 "nbformat": 4,
 "nbformat_minor": 4
}
