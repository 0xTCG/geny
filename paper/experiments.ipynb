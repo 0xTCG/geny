{
 "cells": [
  {
   "cell_type": "markdown",
   "metadata": {
    "pycharm": {
     "name": "#%% md\n"
    }
   },
   "source": [
    "# Geny Experimental Notebook\n",
    "---\n",
    "\n",
    "## Evaluated tools\n",
    "\n",
    "| Tool | Version |\n",
    "|------|---------|\n",
    "| Geny | [Latest](https://github.com/0xTCG/geny) |\n",
    "| T1K  | [v1.0.5](https://github.com/mourisl/T1K) (c02398b17) |\n",
    "| PING | Please see blow |\n"
   ]
  },
  {
   "cell_type": "markdown",
   "metadata": {
    "jp-MarkdownHeadingCollapsed": true,
    "pycharm": {
     "name": "#%% md\n"
    },
    "tags": []
   },
   "source": [
    "## Simulations\n",
    "\n",
    "### Generation\n",
    "Paired-end simulations were generated using script:\n",
    "[analysis.py](analysis.py)\n",
    "### Run\n",
    "\n",
    "Geny: python [geny.py](../geny.py) file.fa -c 20\n",
    "\n",
    "T1K: \n",
    "\n",
    "```bash\n",
    "cat file.fa | paste - - - - | \\\n",
    "    tee >(cut -f 1-2 | sed 's/^>/@/' | awk '{print $1; print $3; print \"+\"; print \"HHHHHHHHHHHHHHHHHHHHHHHHHHHHHHHHHHHHHHHHHHHHHHHHHHHHHHHHHHHHHHHHHHHHHHHHHHHHHHHHHHHHHHHHHHHHHHHHHHHH\"}' > file.fq1) | \\\n",
    "    cut -f3-4 |        sed 's/^>/@/' | awk '{print $1; print $3; print \"+\"; print \"HHHHHHHHHHHHHHHHHHHHHHHHHHHHHHHHHHHHHHHHHHHHHHHHHHHHHHHHHHHHHHHHHHHHHHHHHHHHHHHHHHHHHHHHHHHHHHHHHHHH\"}' > file.fq2\n",
    "time ./run-t1k -1 file.fq1 file.fq2 --od file -t 8 --preset kir-wgs -f kiridx/kiridx_dna_seq.fa\n",
    "```"
   ]
  },
  {
   "cell_type": "markdown",
   "metadata": {
    "jp-MarkdownHeadingCollapsed": true,
    "pycharm": {
     "name": "#%% md\n"
    },
    "tags": []
   },
   "source": [
    "## HPRC Samples\n",
    "### HPRC data acquisition\n",
    "We evaluated the following 40 HPRC samples:\n",
    "| HG00438 | HG01175 | HG02148 | HG00621 | HG01243 |\n",
    "|---------|---------|---------|---------|---------|\n",
    "| HG02257 | HG00673 | HG01258 | HG02572 | HG00733 |\n",
    "| HG01358 | HG02622 | HG00735 | HG01361 | HG02630 |\n",
    "| HG00741 | HG01891 | HG02717 | HG01071 | HG01928 |\n",
    "| HG02723 | HG01106 | HG01952 | HG02818 | HG01109 |\n",
    "| HG01978 | HG02886 | HG02055 | HG03098 | HG03579 |\n",
    "| HG02080 | HG03453 | NA18906 | HG02145 | HG03486 |\n",
    "| NA19240 | HG03492 | HG03540 | NA20129 | HG03516 |\n",
    "\n",
    "The HPRC CRAM / CRAI files are acquired from the following links:\n",
    "- [HPRC](https://s3-us-west-2.amazonaws.com/human-pangenomics/index.html?prefix=working/HPRC/)\n",
    "- [HPRC_PLUS](https://s3-us-west-2.amazonaws.com/human-pangenomics/index.html?prefix=working/HPRC_PLUS/)\n",
    "\n",
    "\n",
    "### Data preparation for T1K\n",
    "1. Download and unzip Gencode reference:\n",
    "   ```bash\n",
    "   wget https://ftp.ebi.ac.uk/pub/databases/gencode/Gencode_human/release_46/gencode.v46.chr_patch_hapl_scaff.annotation.gtf.gz\n",
    "   gunzip gencode.v46.chr_patch_hapl_scaff.annotation.gtf.gz\n",
    "2. Process the Gencode file:\n",
    "   ```bash\n",
    "   cat gencode.v46.chr_patch_hapl_scaff.annotation.gtf | \\\n",
    "   grep -v '^KV' | \\\n",
    "   sed 's/GL949747.2/chr19_GL949747v2_alt/' | \\\n",
    "   sed 's/KI270890.1/chr19_KI270890v1_alt/' | \\\n",
    "   sed 's/KI270921.1/chr19_KI270921v1_alt/' | \\\n",
    "   sed 's/KI270930.1/chr19_KI270930v1_alt/' > \\\n",
    "   gencode.v46.chr_patch_hapl_scaff.annotation_.gtf\n",
    "3. Build KIR index using IPD-KIR 2.12:\n",
    "   ```bash\n",
    "   perl t1k-build.pl -o kiridx -d kiridx/kir.dat \\\n",
    "   -g gencode.v46.chr_patch_hapl_scaff.annotation_.gtf \\\n",
    "   --partial-intron-noseq"
   ]
  },
  {
   "cell_type": "markdown",
   "metadata": {},
   "source": [
    "### Benchmark each tool\n",
    "\n",
    "To benchmark Geny and T1K on hprc data, we used the following command:\n",
    "##### Geny:\n",
    "\n",
    "parallel --bar -j2 'python [geny.py](../geny.py) {} > results_validation/{/.}.log 2>&1' ::: data/hprc/*.cram\n",
    "\n",
    "##### T1K: \n",
    "```bash\n",
    "parallel --bar -j2 './run-t1k -b {} -c kiridx/kiridx_dna_coord.fa --od results --abnormalUnmapFlag -t 8 --preset kir-wgs -f kiridx/kiridx_dna_seq.fa > results/{/.}.log 2>&1' ::: data/hprc/*.bam\n",
    "```"
   ]
  },
  {
   "cell_type": "markdown",
   "metadata": {},
   "source": [
    "### Running HPRC samples on the latest version of PING\n",
    "#### PING repository: https://github.com/wesleymarin/PING branch: `wgs-snakemake`"
   ]
  },
  {
   "cell_type": "markdown",
   "metadata": {},
   "source": [
    "#### Inputs\n",
    "1. Download 40 `HPRC` + `HPRC_PLUS` CRAM files\n",
    "2. Download the published BED file for extraction of KIR reads. Published along with `doi:10.1111/tan.14949` (Table S3)\n",
    "\n",
    "#### Extract relevant reads from the CRAM files using the following bash script. Input: CRAM. Output: bgzipped fastqs\n",
    "\n",
    "```bash\n",
    "#!/bin/bash\n",
    "cram=$1\n",
    "\n",
    "fname=${cram##*/}\n",
    "fname=${fname%%.*}\n",
    "out_dir=fastqs/hprc\n",
    "echo $fname\n",
    "fastq1=\"$out_dir\"/\"$fname\"_1.fq\n",
    "fastq2=\"$out_dir\"/\"$fname\"_2.fq\n",
    "\n",
    "bed=kir-PING-hg38.bed\n",
    "REF=GRCh38_full_analysis_set_plus_decoy_hla.fa\n",
    "\n",
    "samtools view -hu -L $bed -T $REF $cram | samtools collate -@ $SLURM_CPUS_PER_TASK -Ou - | samtools fastq -@ $SLURM_CPUS_PER_TASK -1 ${fastq1} -2 ${fastq2} -0 /dev/null -s /dev/null -n -\n",
    "\n",
    "# --- bgzip --- #\n",
    "echo \"bgzip -@ $SLURM_CPUS_PER_TASK ${fastq1}\"\n",
    "bgzip -@ $SLURM_CPUS_PER_TASK ${fastq1}\n",
    "echo \"bgzip -@ $SLURM_CPUS_PER_TASK ${fastq2}\"\n",
    "bgzip -@ $SLURM_CPUS_PER_TASK ${fastq2}\n",
    "\n",
    "```\n",
    "### Download PING --- Follow instructions from https://github.com/wesleymarin/PING/tree/wgs_snakemake\n",
    "Git clone the repo:\n",
    "```bash\n",
    "git clone https://github.com/Hollenbach-lab/PING.git\n",
    "cd ./PING\n",
    "```\n",
    "\n",
    "### Running PING\n",
    "#### Install R dependencies (`4.3` version of R)\n",
    "``` bash\n",
    "# R dependency install command\n",
    "install.packages(c(\"data.table\",\"plotly\",\"stringr\",\"pryr\",\"gtools\",\"R.utils\",\"Parallel\"),dependencies = T)\n",
    "```\n",
    "\n",
    "### Run PING from within the cloned project\n",
    "(PING produces an `extractedFastq` directory for all samples in the input directory (input dir itself contains reads extracted from the KIR region). We use one such directory from an initial run which failed on a single sample.)\n",
    "\n",
    "``` bash\n",
    "# As mentioned within the README, we change the following lines in PING_run.R and run the entire script in rstudio top to bottom\n",
    "rawFastqDirectory <- <fastq dir> # can be set to raw sequence or extractedFastq directory\n",
    "fastqPattern <- '_KIR_' # use '_KIR_' to find already extracted files, otherwise use 'fastq' or whatever fits your data\n",
    "threads <- 10\n",
    "resultsDirectory <- <output dir> # Set the master results directory (all pipeline output will be recorded here)\n",
    "shortNameDelim <- '_' \n",
    "```\n",
    "This script pauses when it generates plots for thresholding copy numbers for all KIR genes. Set the thresholds and resume running.\n",
    "\n",
    "\n",
    "Alternatively, one could enter the threshold values into `<output dir>/manualCopyThresholds.csv` and rerun the entire script with after setting the last flag of line 94 of `PING_run.R` to `True`, which is \n",
    "\n",
    "``` bash\n",
    "sampleList <- ping_copy.manual_threshold(sampleList=sampleList,resultsDirectory=outDir$path,use.threshFile = Tb) # this function sets copy thresholds\n",
    "```\n",
    "\n",
    "The manualCopyThresholds.csv file for all 40 smaples is given below\n",
    "\n",
    "<!-- \"\",\"0-1\",\"1-2\",\"2-3\",\"3-4\",\"4-5\",\"5-6\"\n",
    "\"KIR3DP1\",0.15,0.35,0.6,0.8,NA,NA\n",
    "\"KIR2DS5\",0.2,0.6,1.1,NA,NA,NA\n",
    "\"KIR2DL3\",0.2,0.6,1,NA,NA,NA\n",
    "\"KIR2DP1\",0.3,0.6,1.2,NA,NA,NA\n",
    "\"KIR2DS3\",0.2,0.7,1.2,NA,NA,NA\n",
    "\"KIR2DS2\",0.18,0.5,0.8,NA,NA,NA\n",
    "\"KIR2DL4\",0.2,0.7,1.2,1.7,NA,NA\n",
    "\"KIR3DL3\",0,0,NA,NA,NA,NA\n",
    "\"KIR3DL1\",0.2,0.6,0.7,1,NA,NA\n",
    "\"KIR3DS1\",0.2,0.6,0.9,1.1,NA,NA\n",
    "\"KIR2DL2\",0.15,0.28,0.45,1.1,NA,NA\n",
    "\"KIR3DL2\",0.2,1.1,1.6,NA,NA,NA\n",
    "\"KIR2DS4\",0.2,0.8,1.2,NA,NA,NA\n",
    "\"KIR2DL1\",0.2,0.47,0.59,0.8,1.2,NA\n",
    "\"KIR2DS1\",0.15,0.4,NA,NA,NA,NA\n",
    "\"KIR2DL5\",0.15,0.5,0.8,1.1,NA,NA -->\n",
    "| Gene     | 0-1   | 1-2   | 2-3   | 3-4   | 4-5   | 5-6 |\n",
    "|----------|-------|-------|-------|-------|-------|-----|\n",
    "| KIR3DP1  | 0.15  | 0.35  | 0.6   | 0.8   | NA    | NA  |\n",
    "| KIR2DS5  | 0.2   | 0.6   | 1.1   | NA    | NA    | NA  |\n",
    "| KIR2DL3  | 0.2   | 0.6   | 1     | NA    | NA    | NA  |\n",
    "| KIR2DP1  | 0.3   | 0.6   | 1.2   | NA    | NA    | NA  |\n",
    "| KIR2DS3  | 0.2   | 0.7   | 1.2   | NA    | NA    | NA  |\n",
    "| KIR2DS2  | 0.18  | 0.5   | 0.8   | NA    | NA    | NA  |\n",
    "| KIR2DL4  | 0.2   | 0.7   | 1.2   | 1.7   | NA    | NA  |\n",
    "| KIR3DL3  | 0     | 0     | NA    | NA    | NA    | NA  |\n",
    "| KIR3DL1  | 0.2   | 0.6   | 0.7   | 1     | NA    | NA  |\n",
    "| KIR3DS1  | 0.2   | 0.6   | 0.9   | 1.1   | NA    | NA  |\n",
    "| KIR2DL2  | 0.15  | 0.28  | 0.45  | 1.1   | NA    | NA  |\n",
    "| KIR3DL2  | 0.2   | 1.1   | 1.6   | NA    | NA    | NA  |\n",
    "| KIR2DS4  | 0.2   | 0.8   | 1.2   | NA    | NA    | NA  |\n",
    "| KIR2DL1  | 0.2   | 0.47  | 0.59  | 0.8   | 1.2   | NA  |\n",
    "| KIR2DS1  | 0.15  | 0.4   | NA    | NA    | NA    | NA  |\n",
    "| KIR2DL5  | 0.15  | 0.5   | 0.8   | 1.1   | NA    | NA  |\n"
   ]
  },
  {
   "cell_type": "markdown",
   "metadata": {},
   "source": [
    "### Evaluation\n",
    "We evaluated the results against the BAKIR annotations located in [bakir-annotations](ground/bakir-annotations), which is summarized with:[get_hprc_ground.py](ground/get_hprc_ground.py) The ground truth csv file was  [hprc_gt_0801.csv](ground/hprc_gt_0801.csv), and we used [summarize_hprc.py](summarize_hprc.py) for HPRC result summarization.\n"
   ]
  },
  {
   "cell_type": "markdown",
   "metadata": {},
   "source": []
  }
 ],
 "metadata": {
  "kernelspec": {
   "display_name": "Python 3 (ipykernel)",
   "language": "python",
   "name": "python3"
  },
  "language_info": {
   "codemirror_mode": {
    "name": "ipython",
    "version": 3
   },
   "file_extension": ".py",
   "mimetype": "text/x-python",
   "name": "python",
   "nbconvert_exporter": "python",
   "pygments_lexer": "ipython3",
   "version": "2.7.5"
  },
  "toc": {
   "nav_menu": {},
   "number_sections": true,
   "sideBar": true,
   "skip_h1_title": false,
   "title_cell": "Table of Contents",
   "title_sidebar": "Contents",
   "toc_cell": false,
   "toc_position": {},
   "toc_section_display": true,
   "toc_window_display": false
  }
 },
 "nbformat": 4,
 "nbformat_minor": 4
}
